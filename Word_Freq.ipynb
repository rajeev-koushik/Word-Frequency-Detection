{
 "cells": [
  {
   "cell_type": "code",
   "execution_count": null,
   "metadata": {},
   "outputs": [],
   "source": [
    "import pandas as pd\n",
    "import nltk\n",
    "# nltk.download('stopwords') #Uncomment when running for the first time to download, comment it out after\n",
    "from nltk.corpus import stopwords\n",
    "stop = stopwords.words('english')\n",
    "\n",
    "col = [2] #Index of the column to read\n",
    "df = pd.read_excel('set_1_4.xlsx', usecols=col) #Enter filename\n",
    "df.columns = [\"tweet\"] #Name the column for simplicity\n",
    "\n",
    "df[\"tweet\"] = df[\"tweet\"].str.lower()\n",
    "df[\"cleaned\"] = df[\"tweet\"].apply(lambda x: ' '.join([word for word in str(x).split() if word not in (stop)])) #Stop words removal\n",
    "df[\"cleaned\"] = df[\"cleaned\"].str.replace('[#,@,&,?,!,.,\\,,-]', '') #Special characters removal\n",
    "freq = pd.Series(' '.join(df[\"cleaned\"]).split()).value_counts()[:75] #Change the value of 75 to see the desired number of words\n",
    "\n",
    "print(freq)\n",
    "freq.to_csv(\"Word_Freq.csv\")"
   ]
  }
 ],
 "metadata": {
  "kernelspec": {
   "display_name": "Python 3",
   "language": "python",
   "name": "python3"
  },
  "language_info": {
   "codemirror_mode": {
    "name": "ipython",
    "version": 3
   },
   "file_extension": ".py",
   "mimetype": "text/x-python",
   "name": "python",
   "nbconvert_exporter": "python",
   "pygments_lexer": "ipython3",
   "version": "3.8.3"
  }
 },
 "nbformat": 4,
 "nbformat_minor": 4
}
